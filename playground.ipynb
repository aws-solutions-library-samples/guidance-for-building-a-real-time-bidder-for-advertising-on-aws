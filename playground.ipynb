{
 "cells": [
  {
   "cell_type": "markdown",
   "metadata": {},
   "source": [
    "# Experiments playground notebook\n",
    "Use this notebook to run helper code and to test python cdk code excerpts"
   ]
  },
  {
   "cell_type": "code",
   "execution_count": null,
   "metadata": {},
   "outputs": [],
   "source": [
    "%pip install boto3"
   ]
  },
  {
   "cell_type": "markdown",
   "metadata": {},
   "source": [
    "## Change capacity mode for dynamo db\n",
    "Use this to maange costs after the stack deployment. Provisioned capacity setting to support performance requirements for RTB is the major cost contributor in this stack."
   ]
  },
  {
   "cell_type": "code",
   "execution_count": null,
   "metadata": {},
   "outputs": [],
   "source": [
    "# use python sdk to connect to a profile session\n",
    "import boto3\n",
    "profile_name = 'rtb'\n",
    "root_stack_name = 'rtbkit-bkr-dev'\n",
    "session = boto3.session.Session(profile_name=profile_name)\n",
    "# create a dynamodb client\n",
    "dynamodb = session.client('dynamodb')\n",
    "# list all tables\n",
    "try:\n",
    "    tables = dynamodb.list_tables()['TableNames']\n",
    "    # if table name starts with root_stack_name, check the capacity mode, if the capacity mode is provisioned change it to on-demand\n",
    "    for table in tables:\n",
    "        if table.startswith(root_stack_name):\n",
    "            response = dynamodb.describe_table(TableName=table)['Table']\n",
    "            print(response)\n",
    "            if 'BillingModeSummary' in response:\n",
    "                billing_mode = response['BillingModeSummary']['BillingMode']\n",
    "                if billing_mode == 'PROVISIONED':\n",
    "                    print(\"Table\", table, \"is using provisioned capacity\")\n",
    "                    try:\n",
    "                        uresponse = dynamodb.update_table(TableName=table,BillingMode='PAY_PER_REQUEST')\n",
    "                        print(f\"Table {table} updated successfully to on-demand mode.\")\n",
    "                    except Exception as e:\n",
    "                        print(f\"Error updating table: {str(e)}\")\n",
    "                elif billing_mode == 'PAY_PER_REQUEST':\n",
    "                    print(\"Table\", table, \"is using on-demand capacity\")\n",
    "            else:\n",
    "                # If BillingModeSummary is not present, the table is using provisioned capacity\n",
    "                print(\"Table\", table, \"is using provisioned capacity\")\n",
    "                try:\n",
    "                    uresponse = dynamodb.update_table(TableName=table,BillingMode='PAY_PER_REQUEST')\n",
    "                    print(f\"Table {table} updated successfully to on-demand mode.\")\n",
    "                except Exception as e:\n",
    "                    print(f\"Error updating table: {str(e)}\")\n",
    "except Exception as e:\n",
    "    print(f\"Error describing table: {str(e)}\")"
   ]
  },
  {
   "cell_type": "markdown",
   "metadata": {},
   "source": [
    "## Change kinesis shard count and capacity mode"
   ]
  },
  {
   "cell_type": "code",
   "execution_count": null,
   "metadata": {},
   "outputs": [],
   "source": [
    "# list all kinesis streams whose name starts with a prefix\n",
    "from time import sleep\n",
    "kinesis_client = session.client('kinesis')\n",
    "response = kinesis_client.list_streams()\n",
    "# print(response)\n",
    "stream_arns = [item['StreamARN'] for item in response['StreamSummaries'] if root_stack_name in item['StreamARN']]\n",
    "print(stream_arns)\n",
    "# check the capacity mode of each stream\n",
    "for stream_arn in stream_arns:\n",
    "    response = kinesis_client.describe_stream_summary(StreamARN=stream_arn)\n",
    "    capacity_mode = response['StreamDescriptionSummary']['StreamModeDetails']['StreamMode']\n",
    "    if capacity_mode == 'PROVISIONED':\n",
    "        shards = response['StreamDescriptionSummary']['OpenShardCount']\n",
    "        print(f\"Stream: {stream_arn}, Capacity Mode: {capacity_mode}\", f\"Shards: {shards}\")\n",
    "        # first set shard to half of existing and then set shard count to 200\n",
    "        if shards >=200:\n",
    "            try:\n",
    "                kinesis_client.update_shard_count(StreamARN=stream_arn, TargetShardCount=200, ScalingType='UNIFORM_SCALING')\n",
    "            except kinesis_client.exceptions.InvalidArgumentException as e:\n",
    "                if \"UpdateShardCount cannot scale down below half your current open shard count\" in str(e):\n",
    "                    print(f\"Error updating shard count for stream: {stream_arn}, error: {e}\")\n",
    "                    half_shards = int(shards / 2)\n",
    "                    kinesis_client.update_shard_count(StreamARN=stream_arn, TargetShardCount=half_shards, ScalingType='UNIFORM_SCALING')\n",
    "                    while True:\n",
    "                        response = kinesis_client.describe_stream_summary(StreamARN=stream_arn)\n",
    "                        shard_count = response['StreamDescriptionSummary']['OpenShardCount']\n",
    "                        if shard_count == half_shards:\n",
    "                            print(f\"Updated shard count to {shard_count} for stream: {stream_arn}\")\n",
    "                            break\n",
    "                        print(f\"Waiting for shard count update for stream: {stream_arn}, current shard count: {shard_count}\")\n",
    "                        sleep(10)\n",
    "            else:\n",
    "                # keep checking the shard count until it's updated\n",
    "                while True:\n",
    "                    response = kinesis_client.describe_stream_summary(StreamARN=stream_arn)\n",
    "                    shard_count = response['StreamDescriptionSummary']['OpenShardCount']\n",
    "                    if shard_count == 200:\n",
    "                        print(f\"Updated shard count to {shard_count} for stream: {stream_arn}\")\n",
    "                        break\n",
    "                    print(f\"Waiting for shard count update for stream: {stream_arn}, current shard count: {shard_count}\")\n",
    "                    sleep(10)\n",
    "            # let the previous shard count update complete and the stream in \"ACTIVE\" status\n",
    "            sleep(10)\n",
    "            # change scaling mode to on demand\n",
    "            kinesis_client.update_stream_mode(\n",
    "                StreamARN=kinesis_client.describe_stream(StreamARN=stream_arn)['StreamDescription']['StreamARN'],\n",
    "                StreamModeDetails={'StreamMode': 'ON_DEMAND'}\n",
    "            )\n",
    "        else:\n",
    "            kinesis_client.update_stream_mode(\n",
    "                StreamARN=kinesis_client.describe_stream(StreamARN=stream_arn)['StreamDescription']['StreamARN'],\n",
    "                StreamModeDetails={'StreamMode': 'ON_DEMAND'}\n",
    "            )\n",
    "            # let the previous shard count update complete and the stream in \"ACTIVE\" status\n",
    "            sleep(10)\n",
    "            capacity_mode = response['StreamDescriptionSummary']['StreamModeDetails']['StreamMode']\n",
    "            if capacity_mode == 'ON_DEMAND':\n",
    "                print(f\"Stream: {stream_arn}, Updated Capacity Mode: {capacity_mode}\")\n",
    "    else:\n",
    "        print(f\"Stream: {stream_arn}, Capacity Mode: {capacity_mode}\")\n",
    "\n",
    "    "
   ]
  },
  {
   "cell_type": "code",
   "execution_count": null,
   "metadata": {},
   "outputs": [],
   "source": [
    "\"\""
   ]
  }
 ],
 "metadata": {
  "kernelspec": {
   "display_name": ".venv",
   "language": "python",
   "name": "python3"
  },
  "language_info": {
   "codemirror_mode": {
    "name": "ipython",
    "version": 3
   },
   "file_extension": ".py",
   "mimetype": "text/x-python",
   "name": "python",
   "nbconvert_exporter": "python",
   "pygments_lexer": "ipython3",
   "version": "3.12.5"
  }
 },
 "nbformat": 4,
 "nbformat_minor": 2
}
